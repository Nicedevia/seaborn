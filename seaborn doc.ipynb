{
 "cells": [
  {
   "cell_type": "markdown",
   "metadata": {},
   "source": [
    "Sea Born "
   ]
  },
  {
   "cell_type": "markdown",
   "metadata": {},
   "source": [
    "# pre requis \n",
    "install and import sea born \n",
    "import sesborn as sns"
   ]
  },
  {
   "cell_type": "code",
   "execution_count": null,
   "metadata": {},
   "outputs": [],
   "source": [
    "import seaborn as sns"
   ]
  },
  {
   "cell_type": "code",
   "execution_count": null,
   "metadata": {},
   "outputs": [],
   "source": [
    "#exemple type de fonction\n",
    "sns.fonction(x, y, data, hue, size, style)\n",
    "# posibiliter de charger des données\n",
    "data=sns.load_dataset('dataset')"
   ]
  },
  {
   "cell_type": "code",
   "execution_count": null,
   "metadata": {},
   "outputs": [],
   "source": [
    "sns.pairplot('name du data')\n",
    "# produit une figure qui demontre les relations entre les variables \n",
    "# la diagonal de corelation 1/1 affiche donc des histogrammes avec la repartion des information par raport au voisin \n",
    "sns.pairplot('name', hue='name categorie')"
   ]
  },
  {
   "cell_type": "code",
   "execution_count": null,
   "metadata": {},
   "outputs": [],
   "source": [
    "#fonction caplot\n",
    "sns.catplot(x='xvarible', y='yvariable', data='dataset')\n",
    "#fonction boxplot\n",
    "sns.boxplot(x='xvarible', y='yvariable', data='dataset')\n",
    "# explication coupe en quartil et moyenne plus median \n",
    "#fonction displot\n",
    "sns.displot(dataset['categorie_name'])\n",
    "#fonction joint plot\n",
    "sns.jointplot('xvarible', 'yvariable', data='dataset', kind='kde')\n",
    "#cree un graphique avec 2 graf dont i1 sur les cotés\n",
    "# kind est pour le style kde = kerial density"
   ]
  },
  {
   "cell_type": "code",
   "execution_count": null,
   "metadata": {},
   "outputs": [],
   "source": [
    "# heatmap\n",
    "sns.heatmap(dataset.corr())\n",
    "#heat mat des correlation"
   ]
  },
  {
   "cell_type": "markdown",
   "metadata": {},
   "source": [
    "Sea Born est tres utiliser sur les datasets et mathplot pour les graphiques precis de fonction ou autres"
   ]
  }
 ],
 "metadata": {
  "language_info": {
   "name": "python"
  },
  "orig_nbformat": 4
 },
 "nbformat": 4,
 "nbformat_minor": 2
}
